{
 "cells": [
  {
   "cell_type": "code",
   "execution_count": 1,
   "metadata": {},
   "outputs": [],
   "source": [
    "from splinter import Browser\n",
    "from bs4 import BeautifulSoup as bs\n",
    "from selenium import webdriver\n",
    "import time\n",
    "import pandas as pd"
   ]
  },
  {
   "cell_type": "code",
   "execution_count": 2,
   "metadata": {},
   "outputs": [],
   "source": [
    "def init_browser():\n",
    "\n",
    "    # @NOTE: Replace the path with your actual path to the geckodriver\n",
    "    executable_path = {\"executable_path\": r\"C:/Drivers/geckodriver/geckodriver.exe\"}\n",
    "    return Browser(\"firefox\", **executable_path, headless=False)"
   ]
  },
  {
   "cell_type": "code",
   "execution_count": 3,
   "metadata": {},
   "outputs": [],
   "source": [
    "# Visit the NASA Mars News Site and scrape the latest news title and paragraph text\n",
    "def scrape_mars_news():\n",
    "\n",
    "    browser = init_browser()\n",
    "\n",
    "    # Visit https://mars.nasa.gov/news/\n",
    "    url = \"https://mars.nasa.gov/news/\"\n",
    "    browser.visit(url)\n",
    "\n",
    "    time.sleep(1)\n",
    "\n",
    "    # Scrape page into Soup\n",
    "    html = browser.html\n",
    "    soup = bs(html, \"html.parser\")\n",
    "\n",
    "    # Get the latest news title\n",
    "    news_title = soup.find('div', class_='content_title').text\n",
    "\n",
    "    # Get the latest news paragraph text\n",
    "    news_p = soup.find('div', class_='article_teaser_body').text\n",
    "\n",
    "    # Store data in a dictionary\n",
    "    mars_news_data = {\n",
    "        \"news_title\": news_title,\n",
    "        \"news_p\": news_p\n",
    "    }\n",
    "\n",
    "    # Close the browser after scraping\n",
    "    browser.quit()\n",
    "\n",
    "    # Return results\n",
    "    return mars_news_data"
   ]
  },
  {
   "cell_type": "code",
   "execution_count": 4,
   "metadata": {},
   "outputs": [
    {
     "name": "stdout",
     "output_type": "stream",
     "text": [
      "{'news_title': \"Curiosity Tastes First Sample in 'Clay-Bearing Unit'\", 'news_p': 'This new region on Mars might reveal more about the role of water on Mount Sharp.'}\n"
     ]
    }
   ],
   "source": [
    "# Test scrape_mars_news function\n",
    "mars_news= scrape_mars_news()\n",
    "print(mars_news)"
   ]
  },
  {
   "cell_type": "code",
   "execution_count": 11,
   "metadata": {},
   "outputs": [],
   "source": [
    "# Visit JPL NASA and scrape current JPL featured space image \n",
    "def scrape_mars_image():\n",
    "\n",
    "    browser = init_browser()\n",
    "\n",
    "    # Visit https://www.jpl.nasa.gov/spaceimages/?search=&category=Mars\n",
    "    base_url = \"https://www.jpl.nasa.gov\"\n",
    "    search_path = \"/spaceimages/?search=&category=Mars\"\n",
    "    url = base_url + search_path\n",
    "    browser.visit(url)\n",
    "\n",
    "    time.sleep(1)\n",
    "\n",
    "    # Scrape page into Soup\n",
    "    html = browser.html\n",
    "    soup = bs(html, \"html.parser\")\n",
    "\n",
    "    # Find the src for the featured space image\n",
    "    relative_image_path = soup.find('a', id='full_image')['data-fancybox-href']\n",
    "\n",
    "    # Build full path to featured space image\n",
    "    featured_img = base_url + relative_image_path\n",
    "\n",
    "    # Store data in a dictionary\n",
    "    mars_image = {\n",
    "        \"featured_img\": featured_img\n",
    "    }\n",
    "\n",
    "    # Close the browser after scraping\n",
    "    browser.quit()\n",
    "\n",
    "    # Return results\n",
    "    return mars_image"
   ]
  },
  {
   "cell_type": "code",
   "execution_count": 12,
   "metadata": {},
   "outputs": [
    {
     "name": "stdout",
     "output_type": "stream",
     "text": [
      "{'featured_img': 'https://www.jpl.nasa.gov/spaceimages/images/mediumsize/PIA20318_ip.jpg'}\n"
     ]
    }
   ],
   "source": [
    "# Test scrape_mars_images function\n",
    "mars_image= scrape_mars_images()\n",
    "print(mars_image)"
   ]
  },
  {
   "cell_type": "code",
   "execution_count": 13,
   "metadata": {},
   "outputs": [],
   "source": [
    "def scrape_mars_weather():\n",
    "\n",
    "    browser = init_browser()\n",
    "\n",
    "    # Visit https://twitter.com/marswxreport?lang=en)\n",
    "    url = \"https://twitter.com/marswxreport?lang=en)\"\n",
    "    browser.visit(url)\n",
    "\n",
    "    time.sleep(1)\n",
    "\n",
    "    # Scrape page into Soup\n",
    "    html = browser.html\n",
    "    soup = bs(html, \"html.parser\")\n",
    "    \n",
    "    # Get first tweet text about Mars weather\n",
    "    mars_weather = soup.find('p', class_='tweet-text')\n",
    "    \n",
    "    # Remove text inside <a> tag\n",
    "    mars_weather = ''.join(text for text in mars_weather.find_all(text=True) if text.parent.name != \"a\")\n",
    "    \n",
    "    # Remove \\n newlines\n",
    "    mars_weather = mars_weather.replace('\\n', ' ')\n",
    "\n",
    "    mars_weather_data = {\n",
    "        \"mars_weather\": mars_weather\n",
    "    }\n",
    "\n",
    "    # Close the browser after scraping\n",
    "    browser.quit()\n",
    "\n",
    "    # Return results\n",
    "    return mars_weather_data"
   ]
  },
  {
   "cell_type": "code",
   "execution_count": 14,
   "metadata": {},
   "outputs": [
    {
     "name": "stdout",
     "output_type": "stream",
     "text": [
      "{'mars_weather': 'InSight sol 136 (2019-04-14) low -97.3ºC (-143.2ºF) high -16.5ºC (2.4ºF) winds from the WNW at 4.3 m/s (9.6 mph) gusting to 10.8 m/s (24.2 mph) pressure at 7.30 hPa'}\n"
     ]
    }
   ],
   "source": [
    "# Test scrape_mars_weather function\n",
    "mars_weather = scrape_mars_weather()\n",
    "print(mars_weather)"
   ]
  },
  {
   "cell_type": "code",
   "execution_count": 19,
   "metadata": {},
   "outputs": [
    {
     "data": {
      "text/plain": [
       "[                      0                              1\n",
       " 0  Equatorial Diameter:                       6,792 km\n",
       " 1       Polar Diameter:                       6,752 km\n",
       " 2                 Mass:  6.42 x 10^23 kg (10.7% Earth)\n",
       " 3                Moons:            2 (Phobos & Deimos)\n",
       " 4       Orbit Distance:       227,943,824 km (1.52 AU)\n",
       " 5         Orbit Period:           687 days (1.9 years)\n",
       " 6  Surface Temperature:                  -153 to 20 °C\n",
       " 7         First Record:              2nd millennium BC\n",
       " 8          Recorded By:           Egyptian astronomers]"
      ]
     },
     "execution_count": 19,
     "metadata": {},
     "output_type": "execute_result"
    }
   ],
   "source": [
    "# Visit the Mars Facts webpage and use Pandas to scrape the table containing facts about the planet including Diameter, Mass, etc.\n",
    "\n",
    "# Visit https://space-facts.com/mars/\n",
    "url = 'https://space-facts.com/mars/'\n",
    "\n",
    "# Use Panda's `read_html` to parse the url\n",
    "tables = pd.read_html(url)\n",
    "tables"
   ]
  },
  {
   "cell_type": "code",
   "execution_count": 20,
   "metadata": {},
   "outputs": [
    {
     "data": {
      "text/html": [
       "<div>\n",
       "<style scoped>\n",
       "    .dataframe tbody tr th:only-of-type {\n",
       "        vertical-align: middle;\n",
       "    }\n",
       "\n",
       "    .dataframe tbody tr th {\n",
       "        vertical-align: top;\n",
       "    }\n",
       "\n",
       "    .dataframe thead th {\n",
       "        text-align: right;\n",
       "    }\n",
       "</style>\n",
       "<table border=\"1\" class=\"dataframe\">\n",
       "  <thead>\n",
       "    <tr style=\"text-align: right;\">\n",
       "      <th></th>\n",
       "      <th>Value</th>\n",
       "    </tr>\n",
       "    <tr>\n",
       "      <th>Description</th>\n",
       "      <th></th>\n",
       "    </tr>\n",
       "  </thead>\n",
       "  <tbody>\n",
       "    <tr>\n",
       "      <th>Equatorial Diameter:</th>\n",
       "      <td>6,792 km</td>\n",
       "    </tr>\n",
       "    <tr>\n",
       "      <th>Polar Diameter:</th>\n",
       "      <td>6,752 km</td>\n",
       "    </tr>\n",
       "    <tr>\n",
       "      <th>Mass:</th>\n",
       "      <td>6.42 x 10^23 kg (10.7% Earth)</td>\n",
       "    </tr>\n",
       "    <tr>\n",
       "      <th>Moons:</th>\n",
       "      <td>2 (Phobos &amp; Deimos)</td>\n",
       "    </tr>\n",
       "    <tr>\n",
       "      <th>Orbit Distance:</th>\n",
       "      <td>227,943,824 km (1.52 AU)</td>\n",
       "    </tr>\n",
       "    <tr>\n",
       "      <th>Orbit Period:</th>\n",
       "      <td>687 days (1.9 years)</td>\n",
       "    </tr>\n",
       "    <tr>\n",
       "      <th>Surface Temperature:</th>\n",
       "      <td>-153 to 20 °C</td>\n",
       "    </tr>\n",
       "    <tr>\n",
       "      <th>First Record:</th>\n",
       "      <td>2nd millennium BC</td>\n",
       "    </tr>\n",
       "    <tr>\n",
       "      <th>Recorded By:</th>\n",
       "      <td>Egyptian astronomers</td>\n",
       "    </tr>\n",
       "  </tbody>\n",
       "</table>\n",
       "</div>"
      ],
      "text/plain": [
       "                                              Value\n",
       "Description                                        \n",
       "Equatorial Diameter:                       6,792 km\n",
       "Polar Diameter:                            6,752 km\n",
       "Mass:                 6.42 x 10^23 kg (10.7% Earth)\n",
       "Moons:                          2 (Phobos & Deimos)\n",
       "Orbit Distance:            227,943,824 km (1.52 AU)\n",
       "Orbit Period:                  687 days (1.9 years)\n",
       "Surface Temperature:                  -153 to 20 °C\n",
       "First Record:                     2nd millennium BC\n",
       "Recorded By:                   Egyptian astronomers"
      ]
     },
     "execution_count": 20,
     "metadata": {},
     "output_type": "execute_result"
    }
   ],
   "source": [
    "# Create dataframe and rename columns\n",
    "df = tables[0]\n",
    "df.rename(columns={0: \"Description\", 1: \"Value\"}, inplace=True)\n",
    "df = df.set_index('Description')\n",
    "df"
   ]
  },
  {
   "cell_type": "code",
   "execution_count": 21,
   "metadata": {},
   "outputs": [
    {
     "data": {
      "text/plain": [
       "'<table border=\"1\" class=\"dataframe\">  <thead>    <tr style=\"text-align: right;\">      <th></th>      <th>Value</th>    </tr>    <tr>      <th>Description</th>      <th></th>    </tr>  </thead>  <tbody>    <tr>      <th>Equatorial Diameter:</th>      <td>6,792 km</td>    </tr>    <tr>      <th>Polar Diameter:</th>      <td>6,752 km</td>    </tr>    <tr>      <th>Mass:</th>      <td>6.42 x 10^23 kg (10.7% Earth)</td>    </tr>    <tr>      <th>Moons:</th>      <td>2 (Phobos &amp; Deimos)</td>    </tr>    <tr>      <th>Orbit Distance:</th>      <td>227,943,824 km (1.52 AU)</td>    </tr>    <tr>      <th>Orbit Period:</th>      <td>687 days (1.9 years)</td>    </tr>    <tr>      <th>Surface Temperature:</th>      <td>-153 to 20 °C</td>    </tr>    <tr>      <th>First Record:</th>      <td>2nd millennium BC</td>    </tr>    <tr>      <th>Recorded By:</th>      <td>Egyptian astronomers</td>    </tr>  </tbody></table>'"
      ]
     },
     "execution_count": 21,
     "metadata": {},
     "output_type": "execute_result"
    }
   ],
   "source": [
    "# Convert dataframe to HTML and remove \\n newlines\n",
    "html_table = df.to_html()\n",
    "html_table = html_table.replace('\\n', '')\n",
    "html_table"
   ]
  },
  {
   "cell_type": "code",
   "execution_count": 15,
   "metadata": {},
   "outputs": [],
   "source": [
    "# Visit the Mars Facts webpage and use Pandas to scrape the table containing facts about the planet including Diameter, Mass, etc.\n",
    "def scrape_mars_facts():\n",
    "\n",
    "    url = 'https://space-facts.com/mars/'\n",
    "\n",
    "    # Use Panda's `read_html` to parse the url\n",
    "    mars_table = pd.read_html(url)\n",
    "\n",
    "    # Create dataframe, rename columns, and set index to Description\n",
    "    mars_df = mars_table[0]\n",
    "    mars_df.rename(columns={0: 'Description', 1: 'Value'}, inplace=True)\n",
    "    mars_df = mars_df.set_index('Description')\n",
    "\n",
    "    # Convert dataframe to HTML and remove \\n newlines\n",
    "    mars_html_table = mars_df.to_html()\n",
    "    mars_html_table = mars_html_table.replace('\\n', '')\n",
    "    \n",
    "    # Return results\n",
    "    return mars_html_table"
   ]
  },
  {
   "cell_type": "code",
   "execution_count": 16,
   "metadata": {},
   "outputs": [
    {
     "data": {
      "text/plain": [
       "'<table border=\"1\" class=\"dataframe\">  <thead>    <tr style=\"text-align: right;\">      <th></th>      <th>Value</th>    </tr>    <tr>      <th>Description</th>      <th></th>    </tr>  </thead>  <tbody>    <tr>      <th>Equatorial Diameter:</th>      <td>6,792 km</td>    </tr>    <tr>      <th>Polar Diameter:</th>      <td>6,752 km</td>    </tr>    <tr>      <th>Mass:</th>      <td>6.42 x 10^23 kg (10.7% Earth)</td>    </tr>    <tr>      <th>Moons:</th>      <td>2 (Phobos &amp; Deimos)</td>    </tr>    <tr>      <th>Orbit Distance:</th>      <td>227,943,824 km (1.52 AU)</td>    </tr>    <tr>      <th>Orbit Period:</th>      <td>687 days (1.9 years)</td>    </tr>    <tr>      <th>Surface Temperature:</th>      <td>-153 to 20 °C</td>    </tr>    <tr>      <th>First Record:</th>      <td>2nd millennium BC</td>    </tr>    <tr>      <th>Recorded By:</th>      <td>Egyptian astronomers</td>    </tr>  </tbody></table>'"
      ]
     },
     "execution_count": 16,
     "metadata": {},
     "output_type": "execute_result"
    }
   ],
   "source": [
    "# Test scrape_mars_facts function\n",
    "mars_facts = scrape_mars_facts()\n",
    "mars_facts"
   ]
  },
  {
   "cell_type": "code",
   "execution_count": 17,
   "metadata": {},
   "outputs": [],
   "source": [
    "# Visit the USGS Astrogeology site to obtain high resolution images for each of Mars hemispheres and their image urls\n",
    "def scrape_mars_hemispheres():\n",
    "\n",
    "    # Set up hemisphere image urls list\n",
    "    hemisphere_image_urls = []\n",
    "    \n",
    "    browser = init_browser()\n",
    "\n",
    "    # Visit https://astrogeology.usgs.gov/search/results?q=hemisphere+enhanced&k1=target&v1=Mars\n",
    "    url = \"https://astrogeology.usgs.gov/search/results?q=hemisphere+enhanced&k1=target&v1=Mars\"\n",
    "    browser.visit(url)\n",
    "    \n",
    "    time.sleep(1)\n",
    "\n",
    "    # Design an XPATH selector to grab the link to the hemisphere webpage\n",
    "    xpath = '//div[@class=\"item\"]//a[@class=\"itemLink product-item\"]/img'\n",
    "    \n",
    "    # Use splinter to click on the hemisphere link to access the webpage with the full resolution image\n",
    "    results = browser.find_by_xpath(xpath)\n",
    "    \n",
    "    # Loop through each hemisphere link\n",
    "    for i in range(len(results)):\n",
    "        \n",
    "        link = results[i]\n",
    "        link.click()\n",
    "\n",
    "        # Scrape page into Soup\n",
    "        html = browser.html\n",
    "        soup = bs(html, \"html.parser\")\n",
    "\n",
    "        # Get hemisphere name\n",
    "        hemisphere_name = soup.find('h2', class_='title').text\n",
    "\n",
    "        # Remove word 'Enhanced'\n",
    "        hemisphere_name = hemisphere_name.replace(' Enhanced', '')      \n",
    "    \n",
    "        # Get the link for the featured space image \n",
    "        img_item = soup.select_one('.downloads li a')\n",
    "        img_url = img_item['href']\n",
    "\n",
    "        # Store data in a dictionary\n",
    "        hemisphere_info = {\n",
    "            \"title\" : hemisphere_name,\n",
    "            \"img_url\" : img_url\n",
    "        }\n",
    "\n",
    "        # Append dictionary to the url list\n",
    "        hemisphere_image_urls.append(hemisphere_info)\n",
    "    \n",
    "        # Check if there are more results to scrape\n",
    "        if i != (len(results) - 1):\n",
    "            \n",
    "            # Go back to the main page\n",
    "            browser.visit(url)\n",
    "        \n",
    "            # Design an XPATH selector to grab the link to the hemisphere webpage\n",
    "            xpath = '//div[@class=\"item\"]//a[@class=\"itemLink product-item\"]/img'\n",
    "    \n",
    "            # Use splinter to click on the hemisphere link to access the webpage with the full resolution image\n",
    "            results = browser.find_by_xpath(xpath)\n",
    "        \n",
    "        else:\n",
    "        \n",
    "            # Close the browser after scraping all the hemisphere info\n",
    "            browser.quit()\n",
    "\n",
    "    # Return results\n",
    "    return hemisphere_image_urls"
   ]
  },
  {
   "cell_type": "code",
   "execution_count": 18,
   "metadata": {
    "scrolled": true
   },
   "outputs": [
    {
     "name": "stdout",
     "output_type": "stream",
     "text": [
      "[{'title': 'Cerberus Hemisphere', 'img_url': 'http://astropedia.astrogeology.usgs.gov/download/Mars/Viking/cerberus_enhanced.tif/full.jpg'}, {'title': 'Schiaparelli Hemisphere', 'img_url': 'http://astropedia.astrogeology.usgs.gov/download/Mars/Viking/schiaparelli_enhanced.tif/full.jpg'}, {'title': 'Syrtis Major Hemisphere', 'img_url': 'http://astropedia.astrogeology.usgs.gov/download/Mars/Viking/syrtis_major_enhanced.tif/full.jpg'}, {'title': 'Valles Marineris Hemisphere', 'img_url': 'http://astropedia.astrogeology.usgs.gov/download/Mars/Viking/valles_marineris_enhanced.tif/full.jpg'}]\n"
     ]
    }
   ],
   "source": [
    "# Test scrape_mars_hemispheres function\n",
    "mars_hemispheres= scrape_mars_hemispheres()\n",
    "print(mars_hemispheres)"
   ]
  },
  {
   "cell_type": "code",
   "execution_count": null,
   "metadata": {},
   "outputs": [],
   "source": []
  }
 ],
 "metadata": {
  "kernelspec": {
   "display_name": "Python 3",
   "language": "python",
   "name": "python3"
  },
  "language_info": {
   "codemirror_mode": {
    "name": "ipython",
    "version": 3
   },
   "file_extension": ".py",
   "mimetype": "text/x-python",
   "name": "python",
   "nbconvert_exporter": "python",
   "pygments_lexer": "ipython3",
   "version": "3.7.1"
  }
 },
 "nbformat": 4,
 "nbformat_minor": 2
}
